{
 "cells": [
  {
   "cell_type": "code",
   "execution_count": 20,
   "metadata": {},
   "outputs": [],
   "source": [
    "import json"
   ]
  },
  {
   "cell_type": "code",
   "execution_count": 21,
   "metadata": {
    "scrolled": true
   },
   "outputs": [],
   "source": [
    "with open('final_train_data_v2 (1).json') as json_file:\n",
    "    data = json.load(json_file)\n",
    "def print_qas_triplet(q,context):\n",
    "            print(\"Question\")\n",
    "            print(q[\"question\"]+\"\\n\")\n",
    "            \n",
    "            print(\"Answer Start\")\n",
    "            print(str(q[\"answers\"][0][\"answer_start\"])+\"\\n\")\n",
    "            \n",
    "            print(\"Answer\")\n",
    "            print(q[\"answers\"][0][\"text\"]+\"\\n\")\n",
    "            answer_length = len(q[\"answers\"][0][\"text\"])\n",
    "            print(\"Context index\")\n",
    "            print(context[q[\"answers\"][0][\"answer_start\"]:q[\"answers\"][0][\"answer_start\"]+answer_length]+\"\\n\")\n",
    "            \n",
    "            print(\"context\")\n",
    "            print(context)\n",
    "            print(\"*****\"*20)\n",
    "\n",
    "for triple in data[\"data\"]:\n",
    "    paragraphs = triple[\"paragraphs\"]\n",
    "    for p in paragraphs:\n",
    "        context = p[\"context\"]\n",
    "        for q in p[\"qas\"]:\n",
    "            answer_length = len(q[\"answers\"][0][\"text\"])\n",
    "            if context[q[\"answers\"][0][\"answer_start\"]:q[\"answers\"][0][\"answer_start\"]+answer_length] != q[\"answers\"][0][\"text\"]:\n",
    "                print_qas_triplet(q,context)\n",
    "\n"
   ]
  },
  {
   "cell_type": "code",
   "execution_count": null,
   "metadata": {},
   "outputs": [],
   "source": []
  },
  {
   "cell_type": "code",
   "execution_count": null,
   "metadata": {},
   "outputs": [],
   "source": []
  }
 ],
 "metadata": {
  "kernelspec": {
   "display_name": "Python 3",
   "language": "python",
   "name": "python3"
  },
  "language_info": {
   "codemirror_mode": {
    "name": "ipython",
    "version": 3
   },
   "file_extension": ".py",
   "mimetype": "text/x-python",
   "name": "python",
   "nbconvert_exporter": "python",
   "pygments_lexer": "ipython3",
   "version": "3.7.7"
  }
 },
 "nbformat": 4,
 "nbformat_minor": 4
}
