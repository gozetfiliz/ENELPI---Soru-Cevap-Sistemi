{
 "cells": [
  {
   "cell_type": "code",
   "execution_count": 1,
   "metadata": {},
   "outputs": [],
   "source": [
    "import json"
   ]
  },
  {
   "cell_type": "code",
   "execution_count": 12,
   "metadata": {},
   "outputs": [],
   "source": [
    "name = 'Osmanlı-Bizans'\n",
    "treaty_type = 'düzenleme antlaşmasıdır'\n",
    "signed_date = '29 Mayıs'\n",
    "signed_year = '1420'\n",
    "signed_place = 'İstanbul'\n",
    "signatory_state1 = 'Osmanlı Devleti'\n",
    "signatory_state2 = 'Bizans İmparatorluğu'\n",
    "\n",
    "def contextbomb(name, signed_date, signed_year, signed_place, signatory_state1, signatory_state2):\n",
    "    context = name + ' Antlaşması bir ' + treaty_type + ' antlaşmasıdır. ' + name + ' Antlaşması ' + signed_date + ' ' + signed_year + ' tarihinde imzalanmıştır. ' + name + ' Antlaşması, ' + signatory_state1 + ' ile ' + signatory_state2 + ' arasında imzalanmıştır. ' + name + ' Antlaşması ' + signed_place + \" kentinde imzalanmıştır. \"\n",
    "    return context\n",
    "\n",
    "def quesbomb(name, signed_date, signed_year, signed_place, signatory_state1, signatory_state2):\n",
    "    ques = [name + ' Antlaşması ne çeşit bir antlaşmadır?', name + ' Antlaşması hangi tarihte imzalanmıştır?', 'Hangi antlaşma ' + signed_date + ' ' + signed_year + ' tarihinde imzalanmıştır?', name + ' Antlaşması kaç yılında imzalanmıştır?', 'Hangi antlaşma ' + signed_year + ' yılında imzalanmıştır?', 'Hangi antlaşma ' + signatory_state1 + ' ile ' + signatory_state2 + ' arasında imzalanmıştır?', name + ' Antlaşması, hangi devlet ile ' + signatory_state2 +' arasında imzalanmıştır?', name + ' Antlaşması, '+ signatory_state1 +' ile hangi devlet arasında imzalanmıştır?', name + ' Antlaşması, hangi iki devlet arasında imzalanmıştır?', 'Hangi antlaşma ' + signed_place + \" kentinde imzalanmıştır?\", name + ' Antlaşması nerede imzalanmıştır?']\n",
    "    return ques\n",
    "\n",
    "def ansbomb(name, signed_date, signed_year, signed_place, signatory_state1, signatory_state2):\n",
    "    ans = [treaty_type + ' antlaşması.', signed_date + ' ' + signed_year + '.', name + ' Antlaşması.', signed_year + ' yılında.', name + ' Antlaşması.', name + ' Antlaşması.', signatory_state1 + '.', signatory_state2 + '.', signatory_state1 + ' ile ' + signatory_state2 + '.', name + ' Antlaşması.', signed_place + \" kentinde.\"]\n",
    "    return ans"
   ]
  },
  {
   "cell_type": "code",
   "execution_count": 13,
   "metadata": {},
   "outputs": [
    {
     "data": {
      "text/plain": [
       "'Osmanlı-Bizans Antlaşması bir düzenleme antlaşmasıdır antlaşmasıdır. Osmanlı-Bizans Antlaşması 29 Mayıs 1420 tarihinde imzalanmıştır. Osmanlı-Bizans Antlaşması, Osmanlı Devleti ile Bizans İmparatorluğu arasında imzalanmıştır. Osmanlı-Bizans Antlaşması İstanbul kentinde imzalanmıştır. '"
      ]
     },
     "execution_count": 13,
     "metadata": {},
     "output_type": "execute_result"
    }
   ],
   "source": [
    "contextbomb(name, signed_date, signed_year, signed_place, signatory_state1, signatory_state2)"
   ]
  },
  {
   "cell_type": "code",
   "execution_count": 14,
   "metadata": {},
   "outputs": [
    {
     "name": "stdout",
     "output_type": "stream",
     "text": [
      "Osmanlı-Bizans Antlaşması ne çeşit bir antlaşmadır?\n",
      "Osmanlı-Bizans Antlaşması hangi tarihte imzalanmıştır?\n",
      "Hangi antlaşma 29 Mayıs 1420 tarihinde imzalanmıştır?\n",
      "Osmanlı-Bizans Antlaşması kaç yılında imzalanmıştır?\n",
      "Hangi antlaşma 1420 yılında imzalanmıştır?\n",
      "Hangi antlaşma Osmanlı Devleti ile Bizans İmparatorluğu arasında imzalanmıştır?\n",
      "Osmanlı-Bizans Antlaşması, hangi devlet ile Bizans İmparatorluğu arasında imzalanmıştır?\n",
      "Osmanlı-Bizans Antlaşması, Osmanlı Devleti ile hangi devlet arasında imzalanmıştır?\n",
      "Osmanlı-Bizans Antlaşması, hangi iki devlet arasında imzalanmıştır?\n",
      "Hangi antlaşma İstanbul kentinde imzalanmıştır?\n",
      "Osmanlı-Bizans Antlaşması nerede imzalanmıştır?\n"
     ]
    }
   ],
   "source": [
    "ques = quesbomb(name, signed_date, signed_year, signed_place, signatory_state1, signatory_state2)\n",
    "for i in range(len(ques)):\n",
    "    print(ques[i])"
   ]
  },
  {
   "cell_type": "code",
   "execution_count": 15,
   "metadata": {},
   "outputs": [
    {
     "name": "stdout",
     "output_type": "stream",
     "text": [
      "düzenleme antlaşmasıdır antlaşması.\n",
      "29 Mayıs 1420.\n",
      "Osmanlı-Bizans Antlaşması.\n",
      "1420 yılında.\n",
      "Osmanlı-Bizans Antlaşması.\n",
      "Osmanlı-Bizans Antlaşması.\n",
      "Osmanlı Devleti.\n",
      "Bizans İmparatorluğu.\n",
      "Osmanlı Devleti ile Bizans İmparatorluğu.\n",
      "Osmanlı-Bizans Antlaşması.\n",
      "İstanbul kentinde.\n"
     ]
    }
   ],
   "source": [
    "ans = ansbomb(name, signed_date, signed_year, signed_place, signatory_state1, signatory_state2)\n",
    "for i in range(len(ans)):\n",
    "    print(ans[i])"
   ]
  },
  {
   "cell_type": "code",
   "execution_count": null,
   "metadata": {},
   "outputs": [],
   "source": []
  }
 ],
 "metadata": {
  "kernelspec": {
   "display_name": "Python 3",
   "language": "python",
   "name": "python3"
  },
  "language_info": {
   "codemirror_mode": {
    "name": "ipython",
    "version": 3
   },
   "file_extension": ".py",
   "mimetype": "text/x-python",
   "name": "python",
   "nbconvert_exporter": "python",
   "pygments_lexer": "ipython3",
   "version": "3.7.6"
  }
 },
 "nbformat": 4,
 "nbformat_minor": 2
}
