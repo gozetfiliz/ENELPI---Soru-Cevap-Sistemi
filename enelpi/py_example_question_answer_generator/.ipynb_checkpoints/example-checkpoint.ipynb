{
 "cells": [
  {
   "cell_type": "code",
   "execution_count": 1,
   "metadata": {},
   "outputs": [],
   "source": [
    "import json"
   ]
  },
  {
   "cell_type": "code",
   "execution_count": 2,
   "metadata": {},
   "outputs": [],
   "source": [
    "name = 'Vasvar'\n",
    "treaty_type = 'barış'\n",
    "signed_date = '18 Ağustos'\n",
    "signed_year = '1618'\n",
    "signed_place = 'Vasvar'\n",
    "signatory_state1 = 'Osmanlı Devleti'\n",
    "signatory_state2 = 'Lehistan'\n",
    "\n",
    "def contextbomb(name, signed_date, signed_year, signed_place, signatory_state1, signatory_state2):\n",
    "    context = name + ' Antlaşması bir ' + treaty_type + ' antlaşmasıdır. ' + name + ' Antlaşması ' + signed_date + ' ' + signed_year + ' tarihinde imzalanmıştır. ' + name + ' Antlaşması, ' + signatory_state1 + ' ile ' + signatory_state2 + ' arasında imzalanmıştır. ' + name + ' Antlaşması ' + signed_place + \" kentinde imzalanmıştır. \"\n",
    "    return context\n",
    "\n",
    "def quesbomb(name, signed_date, signed_year, signed_place, signatory_state1, signatory_state2):\n",
    "    ques = [name + ' Antlaşması ne çeşit bir antlaşmadır?', name + ' Antlaşması hangi tarihte imzalanmıştır?', 'Hangi antlaşma ' + signed_date + ' ' + signed_year + ' tarihinde imzalanmıştır?', name + ' Antlaşması kaç yılında imzalanmıştır?', 'Hangi antlaşma ' + signed_year + ' yılında imzalanmıştır?', 'Hangi antlaşma ' + signatory_state1 + ' ile ' + signatory_state2 + ' arasında imzalanmıştır?', name + ' Antlaşması, hangi devlet ile ' + signatory_state2 +' arasında imzalanmıştır?', name + ' Antlaşması, '+ signatory_state1 +' ile hangi devlet arasında imzalanmıştır?', name + ' Antlaşması, hangi iki devlet arasında imzalanmıştır?', 'Hangi antlaşma ' + signed_place + \" kentinde imzalanmıştır?\", name + ' Antlaşması nerede imzalanmıştır?']\n",
    "    return ques\n",
    "\n",
    "def ansbomb(name, signed_date, signed_year, signed_place, signatory_state1, signatory_state2):\n",
    "    ans = [treaty_type + ' antlaşması.', signed_date + ' ' + signed_year + '.', name + ' Antlaşması.', signed_year + ' yılında.', name + ' Antlaşması.', name + ' Antlaşması.', signatory_state1 + '.', signatory_state2 + '.', signatory_state1 + ' ile ' + signatory_state2 + '.', name + ' Antlaşması.', signed_place + \" kentinde.\"]\n",
    "    return ans"
   ]
  },
  {
   "cell_type": "code",
   "execution_count": 3,
   "metadata": {},
   "outputs": [
    {
     "data": {
      "text/plain": [
       "'Vasvar Antlaşması bir barış antlaşmasıdır. Vasvar Antlaşması 18 Ağustos 1618 tarihinde imzalanmıştır. Vasvar Antlaşması, Osmanlı Devleti ile Lehistan arasında imzalanmıştır. Vasvar Antlaşması Vasvar kentinde imzalanmıştır. '"
      ]
     },
     "execution_count": 3,
     "metadata": {},
     "output_type": "execute_result"
    }
   ],
   "source": [
    "contextbomb(name, signed_date, signed_year, signed_place, signatory_state1, signatory_state2)"
   ]
  },
  {
   "cell_type": "code",
   "execution_count": 4,
   "metadata": {},
   "outputs": [
    {
     "name": "stdout",
     "output_type": "stream",
     "text": [
      "Vasvar Antlaşması ne çeşit bir antlaşmadır?\n",
      "Vasvar Antlaşması hangi tarihte imzalanmıştır?\n",
      "Hangi antlaşma 18 Ağustos 1618 tarihinde imzalanmıştır?\n",
      "Vasvar Antlaşması kaç yılında imzalanmıştır?\n",
      "Hangi antlaşma 1618 yılında imzalanmıştır?\n",
      "Hangi antlaşma Osmanlı Devleti ile Lehistan arasında imzalanmıştır?\n",
      "Vasvar Antlaşması, hangi devlet ile Lehistan arasında imzalanmıştır?\n",
      "Vasvar Antlaşması, Osmanlı Devleti ile hangi devlet arasında imzalanmıştır?\n",
      "Vasvar Antlaşması, hangi iki devlet arasında imzalanmıştır?\n",
      "Hangi antlaşma Vasvar kentinde imzalanmıştır?\n",
      "Vasvar Antlaşması nerede imzalanmıştır?\n"
     ]
    }
   ],
   "source": [
    "ques = quesbomb(name, signed_date, signed_year, signed_place, signatory_state1, signatory_state2)\n",
    "for i in range(len(ques)):\n",
    "    print(ques[i])"
   ]
  },
  {
   "cell_type": "code",
   "execution_count": 5,
   "metadata": {},
   "outputs": [
    {
     "name": "stdout",
     "output_type": "stream",
     "text": [
      "barış antlaşması.\n",
      "18 Ağustos 1618.\n",
      "Vasvar Antlaşması.\n",
      "1618 yılında.\n",
      "Vasvar Antlaşması.\n",
      "Vasvar Antlaşması.\n",
      "Osmanlı Devleti.\n",
      "Lehistan.\n",
      "Osmanlı Devleti ile Lehistan.\n",
      "Vasvar Antlaşması.\n",
      "Vasvar kentinde.\n"
     ]
    }
   ],
   "source": [
    "ans = ansbomb(name, signed_date, signed_year, signed_place, signatory_state1, signatory_state2)\n",
    "for i in range(len(ans)):\n",
    "    print(ans[i])"
   ]
  },
  {
   "cell_type": "code",
   "execution_count": null,
   "metadata": {},
   "outputs": [],
   "source": []
  }
 ],
 "metadata": {
  "kernelspec": {
   "display_name": "Python 3",
   "language": "python",
   "name": "python3"
  },
  "language_info": {
   "codemirror_mode": {
    "name": "ipython",
    "version": 3
   },
   "file_extension": ".py",
   "mimetype": "text/x-python",
   "name": "python",
   "nbconvert_exporter": "python",
   "pygments_lexer": "ipython3",
   "version": "3.7.6"
  }
 },
 "nbformat": 4,
 "nbformat_minor": 2
}
