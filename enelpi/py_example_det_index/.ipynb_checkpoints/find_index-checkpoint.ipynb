{
 "cells": [
  {
   "cell_type": "code",
   "execution_count": 263,
   "metadata": {},
   "outputs": [],
   "source": [
    "text = \"\"\"Osmanlı-Bizans Antlaşması bir düzenleme antlaşmasıdır. Osmanlı-Bizans Antlaşması 29 Mayıs 1420 tarihinde imzalanmıştır. Osmanlı-Bizans Antlaşması, Osmanlı Devleti ile Bizans İmparatorluğu arasında imzalanmıştır. Osmanlı-Bizans Antlaşması İstanbul kentinde imzalanmıştır.\"\"\"\n",
    "\n",
    "word = \"İstanbul kentinde\"\n",
    "\n",
    "def find_word_starting_index(word,text):\n",
    "    result = text.find(word) \n",
    "    print(result)"
   ]
  },
  {
   "cell_type": "code",
   "execution_count": 264,
   "metadata": {},
   "outputs": [
    {
     "name": "stdout",
     "output_type": "stream",
     "text": [
      "238\n"
     ]
    }
   ],
   "source": [
    "find_word_starting_index(word,text)"
   ]
  },
  {
   "cell_type": "code",
   "execution_count": 266,
   "metadata": {},
   "outputs": [
    {
     "data": {
      "text/plain": [
       "'İstanbul kentinde imzalanmıştır.'"
      ]
     },
     "execution_count": 266,
     "metadata": {},
     "output_type": "execute_result"
    }
   ],
   "source": [
    "text[238:1200]"
   ]
  },
  {
   "cell_type": "code",
   "execution_count": null,
   "metadata": {},
   "outputs": [],
   "source": []
  },
  {
   "cell_type": "code",
   "execution_count": null,
   "metadata": {},
   "outputs": [],
   "source": []
  }
 ],
 "metadata": {
  "kernelspec": {
   "display_name": "Python 3",
   "language": "python",
   "name": "python3"
  },
  "language_info": {
   "codemirror_mode": {
    "name": "ipython",
    "version": 3
   },
   "file_extension": ".py",
   "mimetype": "text/x-python",
   "name": "python",
   "nbconvert_exporter": "python",
   "pygments_lexer": "ipython3",
   "version": "3.7.6"
  }
 },
 "nbformat": 4,
 "nbformat_minor": 4
}
