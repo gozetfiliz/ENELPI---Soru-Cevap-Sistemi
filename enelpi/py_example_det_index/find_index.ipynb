{
 "cells": [
  {
   "cell_type": "code",
   "execution_count": 27,
   "metadata": {},
   "outputs": [],
   "source": [
    "text = \"\"\"\n",
    "Bahçesaray Antlaşması, 1676-1681 yıllarındaki Osmanlı-Rus Savaşı sonunda Osmanlı Devleti ile Kırım Hanlığı ve Rusya Çarlığı arasında Bahçesaray/Kırım'da 3 Ocak 1681 tarihinde imzalanmış antlaşmadır. Bahçesaray Antlaşması, Rus Çarlığı ile Osmanlı Devleti arasında yapılan ilk resmi antlaşmadır. Bahçesaray Antlaşması'nın ana hükümlerine göre Osmanlı Devleti ve Moskova merkezli Rusya Çarlığı arasında 20 yıl süreli bir barış hüküm sürecek, iki devletin arasındaki sınır Dinyeper Irmağı olacaktı. Osmanlı ve Rus Çarlığı, Dinyeper Irmağı ile güney Buğ Irmağı arasında yerleşme yapılmamasını garanti etti. Nogay göçmenlerinin Ukrayna'nın güney steplerinde gezginlik yapmaları kabul edildi. Zaporozhtsi Kazaklarının Dinyeper Irmağı ve yan ırmakları üzerinde balıkçılık yapma hakları, güneyde tuzla işletme hakları ve Dinyeper Irmağı ile Karadeniz üzerinde deniz vasıtası kullanma hakları değişmeden kalacaktı. Ukrayna'da Dinyeper Nehri doğusu ve Zaporozhtsi Kazaklar bölgelerinin, Rusya Çarlığı egemenliği altında olduğunu Osmanlı Devleti kabul etti. Buna karşılık Kiev bölgesinin güneyi, Bratslav bölgesi ve Podolya Osmanlı Devleti egemenliği altında kaldığı onaylandı.\"\"\"\n",
    "word = \"Dinyeper Irmağı\"\n",
    "\n",
    "def find_word_starting_index(word,text):\n",
    "    result = text.find(word) \n",
    "    print(result)\n",
    "    return result"
   ]
  },
  {
   "cell_type": "code",
   "execution_count": 28,
   "metadata": {},
   "outputs": [
    {
     "name": "stdout",
     "output_type": "stream",
     "text": [
      "470\n"
     ]
    }
   ],
   "source": [
    "x = find_word_starting_index(word,text)"
   ]
  },
  {
   "cell_type": "code",
   "execution_count": 29,
   "metadata": {},
   "outputs": [
    {
     "data": {
      "text/plain": [
       "\"Dinyeper Irmağı olacaktı. Osmanlı ve Rus Çarlığı, Dinyeper Irmağı ile güney Buğ Irmağı arasında yerleşme yapılmamasını garanti etti. Nogay göçmenlerinin Ukrayna'nın güney steplerinde gezginlik yapmaları kabul edildi. Zaporozhtsi Kazaklarının Dinyeper Irmağı ve yan ırmakları üzerinde balıkçılık yapma hakları, güneyde tuzla işletme hakları ve Dinyeper Irmağı ile Karadeniz üzerinde deniz vasıtası kullanma hakları değişmeden kalacaktı. Ukrayna'da Dinyeper Nehri doğusu ve Zaporozhtsi Kazaklar bölgelerinin, Rusya Çarlığı egemenliği altında olduğunu Osmanlı Devleti kabul etti. Buna karşılık Kiev bölgesinin güneyi, Bratslav bölgesi ve Podolya Osmanlı Devleti egemenliği altında kaldığı onaylandı.\""
      ]
     },
     "execution_count": 29,
     "metadata": {},
     "output_type": "execute_result"
    }
   ],
   "source": [
    "text[x:]"
   ]
  },
  {
   "cell_type": "code",
   "execution_count": 4,
   "metadata": {},
   "outputs": [
    {
     "data": {
      "text/plain": [
       "\"iği ise Urallardan Karadeniz üzerine sarkma stratejisinin ilk adımını atmış oldu. Padişah II. Selim ile dâmâdı ve Sadrazam Sokollu Mehmed Paşa, Rusya’nın Kafkasya ve Kırım’a sarkma tehlikesini sezdiler.Bunu önlemek stratejisi olarak Astrahan kalesinin fethi ve bu kalenin bir tahkim edilmiş bir savunma sisteminin merkezi olarak kullanılması gerektiği düşünüldü. Böylece Rus Prensliğinin güneye ilerlemesi önlendi ve Osmanlı Devleti'nin Safevi devletinin Kafkaslar ve Azerbaycan'dan atılma stratejisini kolaylaştırılacaktı.Ayrica eski doğu-batı Asya kervan yollarından 'İpek ve Baharat Yolları' biri tekrar açılabilecek ve Orta Asya'da bulunan ve Safavi aleyhtarı olan Özbekler ile bağlantı kolaylaşacaktı.Bu bağlantının kolaylaştırılması için Don ile Volga arasında bir kanal açılması ve Karadeniz ile Hazer Denizi arasında su üzerinden bağlantının sağlanması da imkân dahiline girmişti. Bu sırada İran Safevi Devleti’nin de Türkistan-Anadolu yolunu keserek Türkistan'dan yola çıkan hacıların engelenmesi haberi geldi.Ana stratejiyi uygulamak ve hacıların engelenmesi taktik sorununun çözümlenmesi niyeti ile bir Astrahan Seferi düzenlemesi için kesin bir şekilde karar verildi. Astrahan Seferi’nin, Don-Volga Kanal Projesi ile eşzamanlı olarak yürütülmesi de kararlaştırıldı.II. Selim, Kırım Hanı I. Devlet Giray’a bir Hatt-ı Hümâyûn göndererek sefer hazırlıklarının başlanması talimatını verdi. Sadrazam Sokollu Mehmed Paşa da bu iş için, bölgeyi iyi tanıyan Şıkk-ı sâni defterdarı Çerkez Kâsım Bey'i görevlendirdi. Kendisine paşalık ve 'Kefe Beylerbeyliği' ünvanı verildi.Astrahan seferinin başarısızlığa uğramasında ise Kırım Hanı'nın etkisi büyüktür. Baştan beri sefere karşı isteksiz davranan Devlet Giray, sefer sırasında çok pasif davranmış, bir an önce Kırım'a dönme arzusu taşımıştır.Devlet Giray Han, kendi yokluğunda Osmanlı sultanının Kırım tahtına Kırım Giray'ı oturtacağından korkuyordu.Bu yüzden daha sefere çıkmadan önce Çar IV.İvan'a elçi göndererek Osmanlıların Astrahan seferine hazırlandıklarını bildirmiştir. Devlet Giray, Çar IV.İvan'dan Astrahan'ı teslim etmesini gerektiği söylemiş. Bu sayede Sultan'ı seferden vazgeçmeye ikna edeceğini söylemiştir.\""
      ]
     },
     "execution_count": 4,
     "metadata": {},
     "output_type": "execute_result"
    }
   ],
   "source": [
    "text[717:]"
   ]
  },
  {
   "cell_type": "code",
   "execution_count": null,
   "metadata": {},
   "outputs": [],
   "source": []
  },
  {
   "cell_type": "code",
   "execution_count": null,
   "metadata": {},
   "outputs": [],
   "source": []
  }
 ],
 "metadata": {
  "kernelspec": {
   "display_name": "Python 3",
   "language": "python",
   "name": "python3"
  },
  "language_info": {
   "codemirror_mode": {
    "name": "ipython",
    "version": 3
   },
   "file_extension": ".py",
   "mimetype": "text/x-python",
   "name": "python",
   "nbconvert_exporter": "python",
   "pygments_lexer": "ipython3",
   "version": "3.7.7"
  }
 },
 "nbformat": 4,
 "nbformat_minor": 4
}
